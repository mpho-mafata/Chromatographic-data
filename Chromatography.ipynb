{
 "cells": [
  {
   "cell_type": "code",
   "source": [
    "import os\n",
    "os.chdir(\"/Users/mphomafata/Documents/GitHub/Chromatographic-data\")\n",
    "import pandas as pd\n",
    "from scipy.io import netcdf_file\n",
    "beer_files = sorted(os.listdir(\"/Users/mphomafata/Documents/Work_file/Collaborative Work/Cody/Untargeted - Gin and Beer/raw_data/Beer/\"))\n",
    "beer_data = []\n",
    "for beer_file in beer_files[:3]:\n",
    "    cdf_file = netcdf_file(f'/Users/mphomafata/Documents/Work_file/Collaborative Work/Cody/Untargeted - Gin and Beer/raw_data/Beer/{beer_file}', mmap=False)\n",
    "    data = pd.DataFrame(columns=[\"retention_time\",\"mass_values\", \"intensities\"])\n",
    "    # variables of interest\n",
    "    mass_values = cdf_file.variables['mass_values'].data\n",
    "    retention_time = cdf_file.variables['scan_acquisition_time'].data\n",
    "    point_count = cdf_file.variables['point_count'].data\n",
    "    \n",
    "    # cumulative counter \n",
    "    def Cumulative(lists): \n",
    "        cu_list = [] \n",
    "        length = len(lists) \n",
    "        cu_list = [sum(lists[0:x:1]) for x in range(0, length+1)] \n",
    "        return cu_list[1:]\n",
    "    lists = point_count\n",
    "    point_counter = Cumulative(lists)\n",
    "    \n",
    "    for i, s in enumerate(retention_time):\n",
    "        if i==0:\n",
    "            start = i\n",
    "        else:\n",
    "            start = point_counter[i-1]+1\n",
    "        stop = point_counter[i]\n",
    "        rt = cdf_file.variables['scan_acquisition_time'][i]\n",
    "        # print(\"retention time \" + str(rt)+ \" has \" + str(point_count[i]) + \" points starting at \" + str(start) + \" ending at \" + str(stop))\n",
    "        intensities = cdf_file.variables['intensity_values'][start:stop]\n",
    "        mass_values = cdf_file.variables['mass_values'][start:stop]\n",
    "        data.loc[len(data.index)] = [rt,mass_values, intensities]\n",
    "    data = data.explode(['mass_values','intensities']).reset_index(drop=True)\n",
    "    # data = data.explode('intensities')\n",
    "    beer_data.append(data)\n",
    "    # data.to_excel(f\"{beer_file}.xlsx\") # too large  to print to excel\n",
    "    print(\"Finished sample \" + str(beer_files.index(f\"{beer_file}\") +1) + \" of \" + str(len(beer_files)))\n",
    "    # print(f\"Sample {beer_file} completed!\")\n",
    "cdf_file .close()\n"
   ],
   "metadata": {
    "collapsed": false
   },
   "id": "9012be3709a51f33",
   "outputs": [],
   "execution_count": null
  },
  {
   "metadata": {},
   "cell_type": "markdown",
   "source": "# Peak detection",
   "id": "ac05548dbbcc25de"
  },
  {
   "metadata": {},
   "cell_type": "code",
   "source": [
    "import numpy as np\n",
    "import matplotlib.pyplot as plt\n",
    "from scipy.signal import find_peaks\n",
    "x = pd.DataFrame(beer_data[0])\n",
    "x=x.groupby([\"retention_time\"]).aggregate({'intensities':'sum'}).reset_index()\n",
    "x=x[\"intensities\"].reset_index(drop=True)\n",
    "# x=x.iloc[1500:2500].reset_index(drop=True)\n",
    "peaks, _ = find_peaks(x, width=10, threshold=10)\n",
    "\n",
    "fig = plt.figure(figsize = (12, 10))\n",
    "plt.plot(x,'black')\n",
    "plt.plot(peaks, x[peaks], \"x\",color = 'red') \n"
   ],
   "id": "acc87c8d0c224833",
   "outputs": [],
   "execution_count": null
  },
  {
   "metadata": {},
   "cell_type": "markdown",
   "source": [
    "# Plot the 2D and 3D spectrum for the first sample\n",
    "# 2D Plot\n"
   ],
   "id": "663af6e35e41d879"
  },
  {
   "metadata": {},
   "cell_type": "code",
   "source": [
    "import matplotlib.pyplot as plt\n",
    "data = beer_data[0]\n",
    "x = data[\"retention_time\"]/60\n",
    "y = data[\"mass_values\"]\n",
    "z = data[\"intensities\"]\n",
    "\n",
    "# Creating figure\n",
    "fig= plt.figure(figsize = (12, 10))\n",
    " \n",
    "# Creating plot\n",
    "plt.scatter(x, y, \n",
    "             c = 'green', \n",
    "             marker = \"x\", s= 2, alpha = 0.01)\n",
    "plt.scatter(x, y,\n",
    "            c = 'red', \n",
    "             marker = \"x\", s= 2, alpha = z/(max(z)))\n",
    "plt.xlabel('Retention time (minutes)', fontweight ='bold') \n",
    "plt.ylabel('Mass-to-charge (mz ratio)', fontweight ='bold') \n",
    "plt.savefig(fname = \"2d_plot.jpg\",dpi = 600,\n",
    "                        transparent=True, format = \"jpg\")\n",
    "plt.show()"
   ],
   "id": "400decd73927b23f",
   "outputs": [],
   "execution_count": null
  },
  {
   "cell_type": "markdown",
   "source": [
    "# 3D Plot"
   ],
   "metadata": {
    "collapsed": false
   },
   "id": "89abe4d177745226"
  },
  {
   "cell_type": "code",
   "source": [
    "import matplotlib.pyplot as plt\n",
    "data = beer_data[0]\n",
    "\n",
    "# Creating figure\n",
    "fig = plt.figure(figsize = (12, 10))\n",
    "ax = fig.add_subplot(projection='3d')\n",
    "\n",
    "ax.scatter(xs=data[\"retention_time\"]/60,\n",
    "           ys = data[\"mass_values\"], \n",
    "           zs = data[\"intensities\"], \n",
    "           c = data[\"intensities\"]\n",
    "           ,\n",
    "           marker = \"x\", s= 1, alpha = 0.5)\n",
    "\n",
    "ax.set_xlabel('Retention time (minutes)', fontweight ='bold') \n",
    "ax.set_ylabel('Mass-to-charge (mz ratio)', fontweight ='bold') \n",
    "ax.set_zlabel('Intensity', fontweight ='bold')\n",
    "plt.savefig(fname = \"3d_plot.jpg\",dpi = 300,\n",
    "                        transparent=True, format = \"jpg\")\n",
    "plt.show()"
   ],
   "metadata": {
    "collapsed": false
   },
   "id": "494eb4b523bfc8a4",
   "outputs": [],
   "execution_count": null
  },
  {
   "cell_type": "markdown",
   "source": "# Pivot data wider",
   "metadata": {
    "collapsed": false
   },
   "id": "89f6a8aedd8debfa"
  },
  {
   "cell_type": "code",
   "source": [
    "import pandas as pd\n",
    "\n",
    "dataset1 = pd.DataFrame(beer_data[0]).pivot(index='retention_time', columns='mass_values', values='intensities')\n",
    "dataset1 = dataset1.fillna(0)\n",
    "# dataset1.to_csv(\"dataset1.csv\")\n",
    "dataset2 = pd.DataFrame(beer_data[1]).pivot(index='retention_time', columns='mass_values', values='intensities')\n",
    "dataset2 = dataset2.fillna(0)\n",
    "# dataset2.to_csv(\"dataset2.csv\")\n",
    "dataset3 = pd.DataFrame(beer_data[2]).pivot(index='retention_time', columns='mass_values', values='intensities')\n",
    "dataset3 = dataset3.fillna(0)\n",
    "# dataset3.to_csv(\"dataset3.csv\")\n"
   ],
   "metadata": {
    "collapsed": false
   },
   "id": "a6f134210991bfd1",
   "outputs": [],
   "execution_count": null
  },
  {
   "cell_type": "markdown",
   "source": [
    "# MULTIVARIATE ANALYSIS"
   ],
   "metadata": {
    "collapsed": false
   },
   "id": "f133ba0d9f84d36e"
  },
  {
   "cell_type": "code",
   "source": [
    "import pandas as pd\n",
    "from sklearn.preprocessing import StandardScaler\n",
    "from matplotlib import pyplot as plt\n",
    "from sklearn.decomposition import PCA\n",
    "import numpy as np\n",
    "from adjustText import adjust_text\n",
    "\n",
    "dataset1 = pd.DataFrame(beer_data[0]).pivot(columns='mass_values', values='intensities')\n",
    "dataset1 = dataset1.fillna(0)\n",
    "my_data = dataset1\n",
    "\n",
    "features = my_data.columns\n",
    "df = my_data\n",
    "\n",
    "x = df.loc[:, features].values\n",
    "\n",
    "# Separating out the target\n",
    "y = df.loc[:,[\"retention_time\"]].values\n",
    "\n",
    "# Standardizing the features\n",
    "x = StandardScaler().fit_transform(x)\n",
    "\n",
    "# get component projections\n",
    "pca = PCA(n_components= 10)\n",
    "principalComponents = pca.fit_transform(x)\n",
    "principalDf = pd.DataFrame(data = principalComponents)\n",
    "finalDf = pd.concat([principalDf, df[[\"retention_time\"]]], axis = 1)\n",
    "\n",
    "loadings = pd.DataFrame((pca.components_.T * (pca.explained_variance_)), index=features)\n",
    "\n",
    "# VISUALISE\n",
    "plt.figure(figsize = (20,15))\n",
    "plt.xlabel(('PC1 (' + str(round(((pca.explained_variance_ratio_)[0]*100),2))+\"%)\" ), fontsize = 12, loc=\"center\")\n",
    "plt.ylabel(('PC2 ('+ str(round(((pca.explained_variance_ratio_)[1]*100),2))+\"%)\" ), fontsize = 12, loc=\"center\")\n",
    "plt.axhline(0, color='black', linestyle = \"-.\", linewidth = 1)\n",
    "plt.axvline(0, color='black', linestyle = \"-.\", linewidth = 1)\n",
    "\n",
    "# SCORES\n",
    "labels = finalDf[\"retention_time\"]\n",
    "plt.scatter(finalDf[0],finalDf[1], c= \"green\", marker=\"D\", s= 200, alpha=0.5)\n",
    "scores_labels = []\n",
    "for i in range(0, len(labels)):\n",
    "    scores_labels.append(plt.text(finalDf[0].iloc[i],\n",
    "            finalDf[1].iloc[i],\n",
    "             f'{labels[i]}',\n",
    "             fontsize=10,\n",
    "             horizontalalignment=\"center\",\n",
    "             verticalalignment='center')\n",
    "    )\n",
    "# adjust_text(scores_labels, only_move={'points':'x', 'texts':'x'}, arrowprops=dict(arrowstyle=\"->\", color='grey', lw=0.8))\n",
    "# LOADINGS\n",
    "plt.scatter(loadings[0], loadings[1], marker=\"v\", c=\"red\")\n",
    "loadings_labels = []\n",
    "for i in range(0, len(features)):\n",
    "   loadings_labels.append(\n",
    "   plt.text(loadings[0].iloc[i],\n",
    "            loadings[1].iloc[i],\n",
    "             f'{features[i]}',\n",
    "             fontsize=10,\n",
    "             horizontalalignment=\"center\",\n",
    "             verticalalignment='bottom',\n",
    "             # bbox=dict(facecolor='grey', alpha=0.2),\n",
    "             # style='italic'\n",
    "             )\n",
    "   )\n",
    "# adjust_text(loadings_labels, only_move={'points':'y', 'texts':'y'}, arrowprops=dict(arrowstyle=\"->\", color='grey', lw=0.8))\n",
    "\n",
    "# SAVE THE GRAPH\n",
    "plt.savefig(fname='PCA_concat.jpg', dpi=600, bbox_inches=None,transparent=True, format=\"jpg\")\n"
   ],
   "metadata": {
    "collapsed": false,
    "jupyter": {
     "is_executing": true
    }
   },
   "id": "acfa0610344958a3",
   "outputs": [],
   "execution_count": null
  }
 ],
 "metadata": {
  "kernelspec": {
   "display_name": "Python 3",
   "language": "python",
   "name": "python3"
  },
  "language_info": {
   "codemirror_mode": {
    "name": "ipython",
    "version": 2
   },
   "file_extension": ".py",
   "mimetype": "text/x-python",
   "name": "python",
   "nbconvert_exporter": "python",
   "pygments_lexer": "ipython2",
   "version": "2.7.6"
  }
 },
 "nbformat": 4,
 "nbformat_minor": 5
}
